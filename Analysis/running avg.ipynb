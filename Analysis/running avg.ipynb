{
 "cells": [
  {
   "cell_type": "code",
   "execution_count": 1,
   "metadata": {},
   "outputs": [],
   "source": [
    "import sys\n",
    "import pandas as pd\n",
    "import numpy as np\n",
    "\n",
    "sys.path.append('/Users/melek/Documents/GitHub/OCCTOPI')\n",
    "from functions.data_cleaner import data_cleaner\n",
    "import matplotlib.pyplot as plt\n"
   ]
  },
  {
   "cell_type": "code",
   "execution_count": 2,
   "metadata": {},
   "outputs": [],
   "source": [
    "def rolling_avg(data,\n",
    "                rolling_window,\n",
    "                measurements='Power', \n",
    "                ):\n",
    "    return data[measurements].rolling(window=rolling_window).mean()\n"
   ]
  },
  {
   "cell_type": "code",
   "execution_count": 3,
   "metadata": {},
   "outputs": [],
   "source": [
    "tv_data = pd.read_csv(\"/Users/melek/Desktop/Research/Research Fall 2024/OCCTOPI/Device Data/TV_data.csv\")\n",
    "tv_data['Time'] = pd.to_datetime(tv_data['Time'],format='mixed')\n",
    "device_j = 180432\n",
    "device_data = tv_data[tv_data['device_id']==device_j]\n",
    "for day_i in device_data['Time'].dt.day_of_year.unique():\n",
    "    data_i = device_data[device_data['Time'].dt.day_of_year==day_i]"
   ]
  },
  {
   "cell_type": "code",
   "execution_count": 7,
   "metadata": {},
   "outputs": [
    {
     "data": {
      "text/plain": [
       "4993265       0\n",
       "4993336       1\n",
       "4993409       2\n",
       "4993480       3\n",
       "4993553       4\n",
       "           ... \n",
       "5094331    1435\n",
       "5094403    1436\n",
       "5094474    1437\n",
       "5094547    1438\n",
       "5094618    1439\n",
       "Name: Time, Length: 1408, dtype: int32"
      ]
     },
     "execution_count": 7,
     "metadata": {},
     "output_type": "execute_result"
    }
   ],
   "source": [
    "data_i['Time'].dt.minute+60*data_i['Time'].dt.hour"
   ]
  },
  {
   "cell_type": "code",
   "execution_count": null,
   "metadata": {},
   "outputs": [],
   "source": []
  },
  {
   "cell_type": "code",
   "execution_count": null,
   "metadata": {},
   "outputs": [],
   "source": []
  }
 ],
 "metadata": {
  "kernelspec": {
   "display_name": "OCCTOPI",
   "language": "python",
   "name": "python3"
  },
  "language_info": {
   "codemirror_mode": {
    "name": "ipython",
    "version": 3
   },
   "file_extension": ".py",
   "mimetype": "text/x-python",
   "name": "python",
   "nbconvert_exporter": "python",
   "pygments_lexer": "ipython3",
   "version": "3.9.20"
  }
 },
 "nbformat": 4,
 "nbformat_minor": 2
}
